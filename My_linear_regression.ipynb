{
  "cells": [
    {
      "cell_type": "markdown",
      "metadata": {
        "id": "view-in-github",
        "colab_type": "text"
      },
      "source": [
        "<a href=\"https://colab.research.google.com/github/OneSll/ML_Algorithms/blob/main/My_linear_regression.ipynb\" target=\"_parent\"><img src=\"https://colab.research.google.com/assets/colab-badge.svg\" alt=\"Open In Colab\"/></a>"
      ]
    },
    {
      "cell_type": "code",
      "execution_count": 1,
      "metadata": {
        "id": "ZFoTqiyMhZd5"
      },
      "outputs": [],
      "source": [
        "import pandas as pd\n",
        "import numpy as np\n",
        "from sklearn.datasets import load_diabetes\n",
        "\n",
        "data = load_diabetes(as_frame=True)\n",
        "X, y = data['data'], data['target']"
      ]
    },
    {
      "cell_type": "code",
      "execution_count": 51,
      "metadata": {
        "id": "9WIwRlemniqv"
      },
      "outputs": [],
      "source": [
        "class MyLineReg:\n",
        "\n",
        "  def __init__(self, n_iter=100, learning_rate=0.1):\n",
        "    self.n_iter = n_iter\n",
        "    self.learning_rate = learning_rate\n",
        "    self.weights = None\n",
        "\n",
        "\n",
        "  def __str__(self):\n",
        "    oup_string = \"MyLineReg class: \"\n",
        "    d = vars(self)\n",
        "    for key, val in d.items():\n",
        "      oup_string += str(key) + \"=\" + str(val) + \", \"\n",
        "\n",
        "    return oup_string\n",
        "\n",
        "\n",
        "  @staticmethod\n",
        "  def _mse_loss(y, y_pred):\n",
        "        return np.mean((y_pred.T - y) ** 2)\n",
        "\n",
        "\n",
        "  def fit(self, X, y, verbose=False):\n",
        "    y = y.to_numpy().reshape(-1, 1)\n",
        "    new_X = X.copy()\n",
        "    new_X.insert(0, \"x_0\", [1 for i in range(len(X))]) # add additional column consists of all 1 for x_0\n",
        "    self.weights = np.ones((1, X.shape[1] + 1)) #vector of weights inited by 1\n",
        "    for i in range(self.n_iter):\n",
        "      y_hat = self.weights @ new_X.T\n",
        "      loss = self._mse_loss(y, y_hat)\n",
        "      grad = (2 / len(y)) * np.dot(new_X.T, (y_hat.T - y))\n",
        "      self.weights -= self.learning_rate * grad.T\n",
        "      if (verbose and ((i % verbose) == 0)):\n",
        "        if (i == 0):\n",
        "          print(f\"start|loss: {loss}\")\n",
        "        else:\n",
        "          print(f\"{i}|loss:{loss}\")\n",
        "\n",
        "\n",
        "  def get_coef(self):\n",
        "    return np.mean(self.weights.reshape(-1,1)[1:])\n"
      ]
    },
    {
      "cell_type": "code",
      "source": [
        "test = MyLineReg(50, 0.1)"
      ],
      "metadata": {
        "id": "_HdOt0GLwzh_"
      },
      "execution_count": 52,
      "outputs": []
    },
    {
      "cell_type": "code",
      "execution_count": 53,
      "metadata": {
        "colab": {
          "base_uri": "https://localhost:8080/"
        },
        "id": "ti5mg7R2i5YO",
        "outputId": "57712c20-904e-4f3c-d03f-c9b302ccd6a9"
      },
      "outputs": [
        {
          "output_type": "stream",
          "name": "stdout",
          "text": [
            "start|loss: 28752.020614660887\n",
            "10|loss:6097.658123034893\n",
            "20|loss:5763.410665323932\n",
            "30|loss:5688.818453358745\n",
            "40|loss:5619.461480824568\n"
          ]
        }
      ],
      "source": [
        "test.fit(X, y, verbose = 10)"
      ]
    },
    {
      "cell_type": "code",
      "source": [
        "test.get_coef()"
      ],
      "metadata": {
        "colab": {
          "base_uri": "https://localhost:8080/"
        },
        "id": "niD4ZCoE-OnZ",
        "outputId": "d089b066-0964-4bd8-8a21-beb144b26af9"
      },
      "execution_count": 54,
      "outputs": [
        {
          "output_type": "execute_result",
          "data": {
            "text/plain": [
              "10.130418158883868"
            ]
          },
          "metadata": {},
          "execution_count": 54
        }
      ]
    }
  ],
  "metadata": {
    "colab": {
      "provenance": [],
      "authorship_tag": "ABX9TyMAUFi9uVRaezcGA3f3ey36",
      "include_colab_link": true
    },
    "kernelspec": {
      "display_name": "Python 3",
      "name": "python3"
    },
    "language_info": {
      "name": "python"
    }
  },
  "nbformat": 4,
  "nbformat_minor": 0
}